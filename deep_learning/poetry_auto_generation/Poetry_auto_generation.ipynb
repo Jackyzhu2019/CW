{
 "cells": [
  {
   "cell_type": "markdown",
   "metadata": {},
   "source": [
    "   This page introduces a very simple method based LSTM model to generate poetry automacally. "
   ]
  },
  {
   "cell_type": "markdown",
   "metadata": {},
   "source": [
    "Training process\n",
    "\n",
    "<img src=\"training_process.png\" width=\"70%\">"
   ]
  },
  {
   "cell_type": "markdown",
   "metadata": {},
   "source": [
    "Poetry auto generation process:\n",
    "\n",
    "<img src=\"text-generation-process.png\" width=\"40%\">\n",
    "\n"
   ]
  },
  {
   "cell_type": "markdown",
   "metadata": {},
   "source": [
    "Training:\n",
    "\n",
    "    python train.py \\\n",
    "      --use_embedding \\\n",
    "      --input_file data/poetry.txt \\\n",
    "      --name poetry \\\n",
    "      --learning_rate 0.005 \\\n",
    "      --num_steps 26 \\\n",
    "      --num_seqs 32 \\\n",
    "      --max_steps 1000\n",
    "\n",
    "<img src=\"train_experiment.png\" width=\"70%\">\n"
   ]
  },
  {
   "cell_type": "markdown",
   "metadata": {},
   "source": [
    "Poetry auto generation:\n",
    "               \n",
    "            python sample.py \\\n",
    "              --use_embedding \\\n",
    "              --converter_path model/poetry/converter.pkl \\\n",
    "              --checkpoint_path model/poetry/ \\\n",
    "              --max_length 300\n",
    "  \n",
    "  \n",
    "   <img src=\"automated_poetry.png\" width=\"60%\">\n",
    "\n",
    "\n",
    "  \n",
    "  "
   ]
  },
  {
   "cell_type": "markdown",
   "metadata": {},
   "source": [
    "It is an interesting but simple example to use LSTM model to do something real. "
   ]
  },
  {
   "cell_type": "code",
   "execution_count": null,
   "metadata": {},
   "outputs": [],
   "source": []
  }
 ],
 "metadata": {
  "kernelspec": {
   "display_name": "Python 3",
   "language": "python",
   "name": "python3"
  },
  "language_info": {
   "codemirror_mode": {
    "name": "ipython",
    "version": 3
   },
   "file_extension": ".py",
   "mimetype": "text/x-python",
   "name": "python",
   "nbconvert_exporter": "python",
   "pygments_lexer": "ipython3",
   "version": "3.7.3"
  }
 },
 "nbformat": 4,
 "nbformat_minor": 2
}
