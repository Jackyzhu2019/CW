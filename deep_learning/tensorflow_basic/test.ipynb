{
 "cells": [
  {
   "cell_type": "markdown",
   "metadata": {},
   "source": [
    "1. tf.get_variable()\n",
    "    tf.constant_initializer：常量初始化函数\n",
    "    tf.random_normal_initializer：正态分布\n",
    "    tf.truncated_normal_initializer：截取的正态分布\n",
    "    tf.random_uniform_initializer：均匀分布\n",
    "    tf.zeros_initializer：全部是0\n",
    "    tf.ones_initializer：全是1\n",
    "    tf.uniform_unit_scaling_initializer：满足均匀分布，但不影响输出数量级的随机值\n",
    "2. \n"
   ]
  },
  {
   "cell_type": "code",
   "execution_count": 23,
   "metadata": {
    "scrolled": false
   },
   "outputs": [
    {
     "name": "stdout",
     "output_type": "stream",
     "text": [
      "<tf.Variable 'W:0' shape=(4, 2) dtype=float32, numpy=\n",
      "array([[-1.0130937 , -0.7506951 ],\n",
      "       [-1.508162  ,  0.5724783 ],\n",
      "       [-0.38514525, -1.3129662 ],\n",
      "       [-0.46893376,  0.25818956]], dtype=float32)>\n",
      "###\n",
      "<tf.Variable 'b:0' shape=(2,) dtype=float32, numpy=array([1., 1.], dtype=float32)>\n",
      "tf.Tensor(\n",
      "[[1. 2. 3. 4.]\n",
      " [4. 3. 2. 1.]], shape=(2, 4), dtype=float32)\n",
      "tf.Tensor(\n",
      "[[-7.060589  -2.511879 ]\n",
      " [-9.816085  -3.6530886]], shape=(2, 2), dtype=float32)\n",
      "tf.Tensor(\n",
      "[[-6.060589  -1.511879 ]\n",
      " [-8.816085  -2.6530886]], shape=(2, 2), dtype=float32)\n",
      "#### m ####\n",
      "tf.Tensor([1 1 0 1], shape=(4,), dtype=int64)\n",
      "(<tf.Tensor: id=803, shape=(), dtype=float32, numpy=-1.0>, [(<tf.Tensor: id=816, shape=(), dtype=float32, numpy=-4.0>, <tf.Variable 'x:0' shape=() dtype=float32, numpy=2.0>)])\n"
     ]
    }
   ],
   "source": [
    "import tensorflow as tf\n",
    "import tensorflow.contrib.eager as tfe\n",
    "tfe.enable_eager_execution()\n",
    "\n",
    "W = tf.get_variable(name=\"W\", shape=(4, 2), initializer=tf.random_normal_initializer(mean=0, stddev=1))\n",
    "b = tf.get_variable(name=\"b\", shape=(2), initializer=tf.constant_initializer(1))\n",
    "\n",
    "print(W)\n",
    "print(\"###\")\n",
    "print(b)\n",
    "\n",
    "image_batch = tf.constant([[1.0, 2, 3, 4],[4, 3, 2,1]], name=\"image_batch\")\n",
    "print(image_batch)\n",
    "y = tf.matmul(image_batch, W) \n",
    "y1 = y + b\n",
    "\n",
    "\n",
    "m = tf.argmax(W, 1) # axis = 1: the index of max value\n",
    "\n",
    "print(y)\n",
    "print(y1)\n",
    "print(\"#### m ####\")\n",
    "print(m)\n",
    "\n",
    "x = tfe.Variable(initial_value = 2.0, name = 'x')\n",
    "def loss(y):\n",
    "    return (y - x ** 2)\n",
    "\n",
    "\n",
    "#loss_value, grads_and_vars = tfe.implicit_value_and_gradients(loss)\n",
    "loss_v = tfe.implicit_value_and_gradients(loss)\n",
    "\n",
    "print(loss_v(3))\n",
    "\n",
    "\n",
    "\n",
    "\n"
   ]
  },
  {
   "cell_type": "code",
   "execution_count": null,
   "metadata": {},
   "outputs": [],
   "source": []
  },
  {
   "cell_type": "code",
   "execution_count": null,
   "metadata": {},
   "outputs": [],
   "source": []
  }
 ],
 "metadata": {
  "kernelspec": {
   "display_name": "Python 3",
   "language": "python",
   "name": "python3"
  },
  "language_info": {
   "codemirror_mode": {
    "name": "ipython",
    "version": 3
   },
   "file_extension": ".py",
   "mimetype": "text/x-python",
   "name": "python",
   "nbconvert_exporter": "python",
   "pygments_lexer": "ipython3",
   "version": "3.6.8"
  }
 },
 "nbformat": 4,
 "nbformat_minor": 2
}
