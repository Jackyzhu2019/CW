{
 "cells": [
  {
   "cell_type": "markdown",
   "metadata": {},
   "source": [
    "MNIST represents \"Modified National Institute of Standards and Technology database\", which is a dataset of handwritten numerals. This experiment uses the tensorflow tools to build a softmax regression model to do the numerals recognition."
   ]
  },
  {
   "cell_type": "markdown",
   "metadata": {},
   "source": [
    "Fist step: read MNIST data\n",
    "1. trainset: 55000 photos each photo 28 * 28 = 784\n",
    "2. testset: 10000 photos"
   ]
  },
  {
   "cell_type": "code",
   "execution_count": 2,
   "metadata": {
    "scrolled": true
   },
   "outputs": [
    {
     "name": "stdout",
     "output_type": "stream",
     "text": [
      "Extracting MNIST_data/train-images-idx3-ubyte.gz\n",
      "Extracting MNIST_data/train-labels-idx1-ubyte.gz\n",
      "Extracting MNIST_data/t10k-images-idx3-ubyte.gz\n",
      "Extracting MNIST_data/t10k-labels-idx1-ubyte.gz\n",
      "(55000, 784) (55000, 10)\n",
      "(10000, 784) (10000, 10)\n"
     ]
    }
   ],
   "source": [
    "import tensorflow as tf\n",
    "from tensorflow.examples.tutorials.mnist import input_data\n",
    "\n",
    "mnist = input_data.read_data_sets(\"MNIST_data/\", one_hot = True)\n",
    "print(mnist.train.images.shape, mnist.train.labels.shape)\n",
    "print(mnist.test.images.shape, mnist.test.labels.shape)"
   ]
  },
  {
   "cell_type": "markdown",
   "metadata": {},
   "source": [
    "Second step: build Softmax regression model\n",
    "input points(X): 28 * 28 = 784 (pixels)\n",
    "output points(Y): 10 (probabilities for numbers (0, 1, 2, ..., 9)) \n",
    "\n",
    "Y = O(W * X + b)\n",
    "where O is the softmax equation, softmax(z(i)) = e^(z(i))/sum(e^(z(j))), j = 1, 2,...k\n",
    "W is the weighted coeffeicents with the size 784 * 10\n",
    "b is bias with the size 10 * 1\n"
   ]
  },
  {
   "cell_type": "code",
   "execution_count": 3,
   "metadata": {},
   "outputs": [
    {
     "name": "stdout",
     "output_type": "stream",
     "text": [
      "WARNING:tensorflow:From D:\\anaconda\\envs\\tensorflow\\lib\\site-packages\\tensorflow\\python\\framework\\op_def_library.py:263: colocate_with (from tensorflow.python.framework.ops) is deprecated and will be removed in a future version.\n",
      "Instructions for updating:\n",
      "Colocations handled automatically by placer.\n"
     ]
    }
   ],
   "source": [
    "x = tf.placeholder(tf.float32, [None, 784])\n",
    "y_label = tf.placeholder(tf.float32, [None, 10]) # reference output\n",
    "W = tf.Variable(tf.zeros([784, 10]))\n",
    "b = tf.Variable(tf.zeros([10]))\n",
    "\n",
    "y = tf.nn.softmax(tf.matmul(x, W) + b)\n",
    "# y shape is 100(number in a batch) * 10"
   ]
  },
  {
   "cell_type": "markdown",
   "metadata": {},
   "source": [
    "Third step: construct the loss function: we use the cross entropy to define the loss.\n",
    "cross entropy is calculated by the true probabilitiy(p) and predicted probability(q). The bigger the cross entropy is, the larger the loss is. \n",
    "\n",
    "cross_entropy = -sum(p(x)* log(q(x)))\n",
    "\n",
    "if y_label = [1,0,0], y = [0.9, 0.1, 0]\n",
    "\n",
    "cross_entropy = -(1 *log(0.9) + 0 * log(0.1) + 0 * log(0))\n"
   ]
  },
  {
   "cell_type": "code",
   "execution_count": 5,
   "metadata": {},
   "outputs": [
    {
     "name": "stdout",
     "output_type": "stream",
     "text": [
      "WARNING:tensorflow:From D:\\anaconda\\envs\\tensorflow\\lib\\site-packages\\tensorflow\\python\\ops\\math_ops.py:3066: to_int32 (from tensorflow.python.ops.math_ops) is deprecated and will be removed in a future version.\n",
      "Instructions for updating:\n",
      "Use tf.cast instead.\n"
     ]
    }
   ],
   "source": [
    "cross_entropy = tf.reduce_mean(-tf.reduce_sum(y_label * tf.log(y), 1))\n",
    "#reduce_mean: calculate the mean in a batch as y shape is 100 * 10\n",
    "train_step = tf.train.GradientDescentOptimizer(0.5).minimize(cross_entropy) # learning rate is 0.5\n"
   ]
  },
  {
   "cell_type": "markdown",
   "metadata": {},
   "source": [
    "Fourth step: training process\n",
    "100 images per batch"
   ]
  },
  {
   "cell_type": "code",
   "execution_count": 15,
   "metadata": {},
   "outputs": [],
   "source": [
    "sess = tf.InteractiveSession()\n",
    "tf.global_variables_initializer().run()\n",
    "\n",
    "for _ in range(10000):\n",
    "\tbatch_xs, batch_ys = mnist.train.next_batch(100)\n",
    "\tsess.run(train_step, feed_dict={x: batch_xs, y_label: batch_ys})\n",
    "    # 100 pics train once."
   ]
  },
  {
   "cell_type": "markdown",
   "metadata": {},
   "source": [
    "Fifth step: model evaluation process"
   ]
  },
  {
   "cell_type": "code",
   "execution_count": 17,
   "metadata": {},
   "outputs": [
    {
     "name": "stdout",
     "output_type": "stream",
     "text": [
      "0.9256\n"
     ]
    }
   ],
   "source": [
    "correct_prediction = tf.equal(tf.argmax(y, 1), tf.argmax(y_label, 1)) # [true, true, false,..., true] boolen type\n",
    "accuracy = tf.reduce_mean(tf.cast(correct_prediction, tf.float32))    # [1, 1, 0, ..., 1] with cast to convert\n",
    "\n",
    "accuracy_after_train = sess.run(accuracy, feed_dict={x:mnist.test.images, y_label:mnist.test.labels})\n",
    "print(accuracy_after_train)\n"
   ]
  },
  {
   "cell_type": "markdown",
   "metadata": {},
   "source": [
    "This kind of coding style makes me not comfortable, because for me, I want to see the shape at the middle, for example, I want to see the shape of output in the calculation of correct_prediciton. I donot know how to print it. Next, I will show the eager excution mode, which makes debugging more efficient."
   ]
  }
 ],
 "metadata": {
  "kernelspec": {
   "display_name": "Python 3",
   "language": "python",
   "name": "python3"
  },
  "language_info": {
   "codemirror_mode": {
    "name": "ipython",
    "version": 3
   },
   "file_extension": ".py",
   "mimetype": "text/x-python",
   "name": "python",
   "nbconvert_exporter": "python",
   "pygments_lexer": "ipython3",
   "version": "3.6.8"
  }
 },
 "nbformat": 4,
 "nbformat_minor": 2
}
