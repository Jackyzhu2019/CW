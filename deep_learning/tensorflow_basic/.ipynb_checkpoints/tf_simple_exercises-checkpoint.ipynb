{
 "cells": [
  {
   "cell_type": "markdown",
   "metadata": {},
   "source": [
    "This page will give some simple exercises to be familiar with tf."
   ]
  },
  {
   "cell_type": "code",
   "execution_count": 11,
   "metadata": {
    "scrolled": true
   },
   "outputs": [
    {
     "data": {
      "image/png": "[encoded data removed]",
      "text/plain": [
       "<Figure size 432x288 with 1 Axes>"
      ]
     },
     "metadata": {
      "needs_background": "light"
     },
     "output_type": "display_data"
    }
   ],
   "source": [
    "import tensorflow as tf\n",
    "import numpy as np\n",
    "import matplotlib.pyplot as plt\n",
    "\n",
    "a = tf.random_normal([2, 4]) \n",
    "# 2 dims, 4 points, will produce 2 * 4 matrix\n",
    "\n",
    "sess = tf.Session()\n",
    "out = sess.run(a)\n",
    "\n",
    "x, y = out\n",
    "plt.scatter(x, y)\n",
    "plt.show()\n",
    "sess.close()\n",
    "\n",
    "\n",
    "\n",
    "\n",
    "\n",
    "\n"
   ]
  },
  {
   "cell_type": "code",
   "execution_count": 17,
   "metadata": {},
   "outputs": [
    {
     "name": "stdout",
     "output_type": "stream",
     "text": [
      "49\n"
     ]
    }
   ],
   "source": [
    "# This program shows the basic tf data flow \n",
    "# and generates visualization file in the tensor board \n",
    "import tensorflow as tf\n",
    "\n",
    "a = tf.constant(4, name = \"input_a\")\n",
    "b = tf.constant(9, name = \"input_b\")\n",
    "\n",
    "c = tf.multiply(a, b, name = \"mul_c\")\n",
    "d = tf.add(a, b, name = \"add_d\")\n",
    "\n",
    "e = tf.add(c, d, name = \"add_e\")\n",
    "\n",
    "\n",
    "with tf.Session() as sess: # session（会话）is used to control the calculation of tf data flow.\n",
    "    result = sess.run(e)\n",
    "    print(result)\n",
    "    writer = tf.summary.FileWriter(\"./my_graph/1\")\n",
    "    writer.add_graph(sess.graph)\n",
    "# D:\\tf_examples\\tf_exercises>tensorboard --logdir=./my_graph/1\n",
    "# TensorBoard 1.13.1 at http://DESKTOP-9JK7JN0:6006 (Press CTRL+C to quit)"
   ]
  },
  {
   "cell_type": "code",
   "execution_count": 20,
   "metadata": {},
   "outputs": [
    {
     "name": "stdout",
     "output_type": "stream",
     "text": [
      "<class 'list'>\n",
      "<class 'numpy.ndarray'>\n",
      "Tensor(\"Add_6:0\", shape=(3,), dtype=int32)\n",
      "[ 4  7 11]\n"
     ]
    }
   ],
   "source": [
    "# This program shows the conversion among tf types and normal data types\n",
    "import tensorflow as tf\n",
    "import numpy as np\n",
    "\n",
    "A = [1, 3, 5]\n",
    "B = np.array([3, 4, 6])\n",
    "\n",
    "#C = tf.convert_to_tensor(A)\n",
    "#D = tf.convert_to_tensor(B)\n",
    "\n",
    "#E = tf.add(C, D)\n",
    "E = tf.add(A, B)\n",
    "\n",
    "\n",
    "\n",
    "with tf.Session() as sess:\n",
    "    print(type(A))\n",
    "    print(type(B))\n",
    " #   print(type(C))\n",
    " #   print(type(D))\n",
    "    F = sess.run(E)\n",
    "    print(E)\n",
    "    print(F) # sess.run() will return a numpy array type.\n",
    "\n",
    "\n"
   ]
  },
  {
   "cell_type": "code",
   "execution_count": 24,
   "metadata": {},
   "outputs": [
    {
     "name": "stdout",
     "output_type": "stream",
     "text": [
      "71.4\n"
     ]
    }
   ],
   "source": [
    "# placeholder usage\n",
    "import tensorflow as tf\n",
    "\n",
    "\n",
    "a = tf.placeholder(tf.float32, name = \"input_a\")\n",
    "b = tf.placeholder(tf.float32, name = \"input_b\")\n",
    "\n",
    "output = tf.multiply(a, b, name = \"mul_out\")\n",
    "\n",
    "input_dict = {a:7.0, b:10.2}\n",
    "\n",
    "with tf.Session() as sess:\n",
    "    result = sess.run(output, feed_dict = input_dict)\n",
    "    print(result)\n"
   ]
  },
  {
   "cell_type": "code",
   "execution_count": 25,
   "metadata": {},
   "outputs": [
    {
     "name": "stdout",
     "output_type": "stream",
     "text": [
      "0\n",
      "1\n",
      "2\n",
      "3\n"
     ]
    }
   ],
   "source": [
    "# variable usage: variables like global variables in C, can be stored and invoked outside.\n",
    "import tensorflow as tf\n",
    "\n",
    "my_state = tf.Variable(0, name = \"state\")\n",
    "one = tf.constant(1)\n",
    "new_value = tf.add(my_state, one)\n",
    "update = tf.assign(my_state, new_value)\n",
    "\n",
    "init_Op = tf.global_variables_initializer()\n",
    "\n",
    "with tf.Session() as sess:\n",
    "    sess.run(init_Op)\n",
    "    print(sess.run(my_state))\n",
    "\n",
    "    for i in range(3):\n",
    "        sess.run(update)\n",
    "        print(sess.run(my_state))\n"
   ]
  },
  {
   "cell_type": "code",
   "execution_count": 10,
   "metadata": {},
   "outputs": [
    {
     "name": "stdout",
     "output_type": "stream",
     "text": [
      "[[[2 4]\n",
      "  [2 6]\n",
      "  [2 8]]\n",
      "\n",
      " [[5 4]\n",
      "  [2 6]\n",
      "  [2 8]]]\n",
      "#############\n",
      "[[[5 4]\n",
      "  [2 6]\n",
      "  [2 8]]\n",
      "\n",
      " [[2 4]\n",
      "  [2 6]\n",
      "  [2 8]]]\n",
      "#############\n",
      "[[[3 9]\n",
      "  [6 9]]\n",
      "\n",
      " [[3 9]\n",
      "  [3 9]]]\n",
      "#############\n",
      "81\n"
     ]
    }
   ],
   "source": [
    "# reduce(约减).A = [[[1, 1, 1],[2, 2, 2]], [[3, 3, 3], [4, 4, 4]]]\n",
    "# axis = 0: 第一个括号里面的元素相加：[[1, 1, 1],[2, 2, 2]] + [[3, 3, 3], [4, 4, 4]] \n",
    "# axis = 1: 第二个括号里面的元素相加：[1, 1, 1] + [2, 2, 2]], [3, 3, 3] + [4, 4, 4]\n",
    "# axis = 2: 第三个括号里面的元素相加： 1+1+1， 2+2+2， 3+3+3， 4+4+4\n",
    "# final dimension will reduce 1\n",
    "import tensorflow as tf\n",
    "\n",
    "#A = tf.constant([[[1, 1, 1],[2, 2, 2]], [[3, 3, 3], [4, 4, 4]]])\n",
    "A = tf.constant([[[[1, 2], [1, 3], [1, 4]], [[4, 2], [1, 3], [1, 4]]],[[[1, 2], [1, 3], [1, 4]],[[1, 2], [1, 3], [1, 4]]]])\n",
    "\n",
    "A0 = tf.reduce_sum(A, axis = 0)\n",
    "A1 = tf.reduce_sum(A, axis = 1)\n",
    "A2 = tf.reduce_sum(A, axis = 2)\n",
    "B0 = tf.pow(3, 4) # 3 ^ 4\n",
    "\n",
    "with tf.Session() as sess:\n",
    "    A0 = sess.run(A0)\n",
    "    print(A0)\n",
    "    print(\"#############\")\n",
    "    A1 = sess.run(A1)\n",
    "    print(A1)\n",
    "    print(\"#############\")\n",
    "    A2 = sess.run(A2)\n",
    "    print(A2)\n",
    "    print(\"#############\")\n",
    "    print(sess.run(B0))\n"
   ]
  },
  {
   "cell_type": "code",
   "execution_count": null,
   "metadata": {},
   "outputs": [],
   "source": []
  }
 ],
 "metadata": {
  "kernelspec": {
   "display_name": "Python 3",
   "language": "python",
   "name": "python3"
  },
  "language_info": {
   "codemirror_mode": {
    "name": "ipython",
    "version": 3
   },
   "file_extension": ".py",
   "mimetype": "text/x-python",
   "name": "python",
   "nbconvert_exporter": "python",
   "pygments_lexer": "ipython3",
   "version": "3.6.8"
  }
 },
 "nbformat": 4,
 "nbformat_minor": 2
}
