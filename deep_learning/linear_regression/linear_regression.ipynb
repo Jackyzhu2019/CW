{
 "cells": [
  {
   "cell_type": "markdown",
   "metadata": {},
   "source": [
    "This python program realizes a simple example of linear regression. The dataset comes from the database of Sweden Automobile\n",
    "Insurance. The number of insurance and the insured amount have a simple relationship of linear regression.\n"
   ]
  },
  {
   "cell_type": "code",
   "execution_count": 5,
   "metadata": {},
   "outputs": [],
   "source": [
    "from csv import reader\n",
    "import random\n",
    "import matplotlib.pyplot as plt\n",
    "from math import sqrt\n",
    "\n",
    "\n",
    "def load_file(filename):\n",
    "    dataset = []\n",
    "    with open(filename) as file:\n",
    "# with is a syntax to handle exception. Using \"with\" will help interpreter know it needs to close the file after open.\n",
    "        reader_line = reader(file)\n",
    "        #print(list(reader_line)) #if we print here, then reader_line will reach the end\n",
    "        heading = next(reader_line)\n",
    "\n",
    "        for line in reader_line:\n",
    "            #print(line)  # remove '\\n'\n",
    "            data_in_float = [0,0]  #confusing, why initialized inside the loop\n",
    "            data_in_float[0], data_in_float[1] = float(line[0]), float(line[1])\n",
    "            dataset.append(data_in_float)\n",
    "            \n",
    "    return dataset\n",
    "\n",
    "\n",
    "\n",
    "def train_test_split(dataset, ratio):\n",
    "    train_set = []\n",
    "    test_set = []\n",
    "    test_set = dataset\n",
    "\n",
    "    train_set_len = ratio * len(dataset)\n",
    "# very artful code:\n",
    "# every time we remove an element from the array. and in the left array, we randomly choose one element and then remove it.\n",
    "# until reach the target length. finally, we get a array whose elements are not repeatable. \n",
    "    while (len(train_set) < train_set_len):\n",
    "        idx = random.randrange(len(test_set))\n",
    "        train_set.append(test_set.pop(idx))\n",
    "\n",
    "    #print(train_set)\n",
    "    return train_set, test_set\n",
    "\n",
    "def mean(data):\n",
    "    data_mean = sum(data) / float(len(data))\n",
    "    return data_mean\n",
    "\n",
    "def covariance(x, x_mean, y, y_mean):\n",
    "    cov = 0.0\n",
    "    for i in range(len(x)):\n",
    "        cov += (x[i] - x_mean) * (y[i] - y_mean)\n",
    "\n",
    "    #print(cov)\n",
    "    return cov\n",
    "\n",
    "def variance(x, x_mean):\n",
    "    var = 0.0\n",
    "\n",
    "    for i in range(len(x)):\n",
    "        var += (x[i] - x_mean) * (x[i] - x_mean)\n",
    "\n",
    "    #print(var)\n",
    "    return var\n",
    "\n",
    "\n",
    "def calculate_coefficients(dataset):\n",
    "    x = [row[0] for row in dataset]\n",
    "    y = [row[1] for row in dataset]\n",
    "    #print(dataset)\n",
    "    #print(y)\n",
    "    x_mean, y_mean = mean(x), mean(y)\n",
    "    print('x_mean: %5f y_mean: %5f ' % (x_mean, y_mean))\n",
    "\n",
    "    cov = covariance(x, x_mean, y, y_mean)\n",
    "    var = variance(x, x_mean)\n",
    "\n",
    "    w1 = cov / var;\n",
    "    w0 = y_mean - w1 * x_mean\n",
    "    return w0, w1\n",
    "\n",
    "def calculate_rmse(act_y, pre_y):\n",
    "    rmse = 0.0\n",
    "    sum_error = 0.0\n",
    "    \n",
    "    for i in range(len(act_y)):\n",
    "        sum_error += (pre_y[i] - act_y[i]) ** 2\n",
    "\n",
    "    rmse = sqrt(sum_error / float(len(act_y)))\n",
    "    \n",
    "    return rmse\n",
    "\n",
    "\n",
    "def evaluate_linear_regression_algorithm(dataset, ratio):\n",
    "    train_set, test_set = train_test_split(dataset, ratio)\n",
    "    w0, w1 = calculate_coefficients(train_set)\n",
    "    rmse = 1\n",
    "    print(\"w0: %5f,w1: %5f\" % (w0, w1))\n",
    "\n",
    "    predict_y_value = []\n",
    "    for row in test_set:\n",
    "        y_predict = row[0] * w1 + w0\n",
    "        predict_y_value.append(y_predict)\n",
    "\n",
    "    actual_y_value = [row[-1] for row in test_set]\n",
    "    x = [row[0] for row in test_set]\n",
    "    #y = [row[1] for row in dataset]\n",
    "    plt.plot(x,predict_y_value)\n",
    "    plt.show()\n",
    "\n",
    "    rmse = calculate_rmse(actual_y_value, predict_y_value)\n",
    "\n",
    "    \n",
    "    return rmse\n"
   ]
  },
  {
   "cell_type": "code",
   "execution_count": null,
   "metadata": {},
   "outputs": [],
   "source": [
    "Main program. First load the dataset, and transfer them to regression algorithm for training."
   ]
  },
  {
   "cell_type": "code",
   "execution_count": 6,
   "metadata": {},
   "outputs": [
    {
     "name": "stdout",
     "output_type": "stream",
     "text": [
      "x_mean: 23.710526 y_mean: 103.105263 \n",
      "w0: 22.849067,w1: 3.384834\n"
     ]
    },
    {
     "data": {
      "image/png": "[encoded data removed]",
      "text/plain": [
       "<Figure size 432x288 with 1 Axes>"
      ]
     },
     "metadata": {
      "needs_background": "light"
     },
     "output_type": "display_data"
    },
    {
     "name": "stdout",
     "output_type": "stream",
     "text": [
      "rmse = 33.710791\n"
     ]
    }
   ],
   "source": [
    "dataset = load_file('dataset.csv')\n",
    "\n",
    "x = [row[0] for row in dataset]\n",
    "y = [row[1] for row in dataset]\n",
    "plt.plot(x,y, 'bs')\n",
    "plt.grid()\n",
    "\n",
    "ratio_train_test = 0.6 # train set to test set ratio\n",
    "rmse = evaluate_linear_regression_algorithm(dataset, ratio_train_test)\n",
    "print('rmse = %5f' % rmse)"
   ]
  },
  {
   "cell_type": "code",
   "execution_count": null,
   "metadata": {},
   "outputs": [],
   "source": []
  }
 ],
 "metadata": {
  "kernelspec": {
   "display_name": "Python 3",
   "language": "python",
   "name": "python3"
  },
  "language_info": {
   "codemirror_mode": {
    "name": "ipython",
    "version": 3
   },
   "file_extension": ".py",
   "mimetype": "text/x-python",
   "name": "python",
   "nbconvert_exporter": "python",
   "pygments_lexer": "ipython3",
   "version": "3.7.3"
  }
 },
 "nbformat": 4,
 "nbformat_minor": 2
}
